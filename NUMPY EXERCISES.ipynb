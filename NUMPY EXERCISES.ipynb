{
 "cells": [
  {
   "cell_type": "markdown",
   "id": "ed866ffa",
   "metadata": {},
   "source": [
    "## Importing Numpy"
   ]
  },
  {
   "cell_type": "code",
   "execution_count": null,
   "id": "b9bf10f8",
   "metadata": {},
   "outputs": [],
   "source": [
    "import numpy as np"
   ]
  },
  {
   "cell_type": "markdown",
   "id": "c83392ad",
   "metadata": {},
   "source": [
    "## Creating an array of 10 Zeros"
   ]
  },
  {
   "cell_type": "code",
   "execution_count": 6,
   "id": "d62af6b0",
   "metadata": {},
   "outputs": [
    {
     "data": {
      "text/plain": [
       "array([[0., 0., 0., 0., 0., 0., 0., 0., 0., 0.]])"
      ]
     },
     "execution_count": 6,
     "metadata": {},
     "output_type": "execute_result"
    }
   ],
   "source": [
    "a0 = np.zeros((1,10))\n",
    "a0"
   ]
  },
  {
   "cell_type": "markdown",
   "id": "63566268",
   "metadata": {},
   "source": [
    "## Creating an arrray of 10 one's"
   ]
  },
  {
   "cell_type": "code",
   "execution_count": 7,
   "id": "54183638",
   "metadata": {},
   "outputs": [
    {
     "data": {
      "text/plain": [
       "array([[1., 1., 1., 1., 1., 1., 1., 1., 1., 1.]])"
      ]
     },
     "execution_count": 7,
     "metadata": {},
     "output_type": "execute_result"
    }
   ],
   "source": [
    "a1 = np.ones((1,10))\n",
    "a1"
   ]
  },
  {
   "cell_type": "markdown",
   "id": "e16cb2d2",
   "metadata": {},
   "source": [
    "## Creating an array of 10 fives"
   ]
  },
  {
   "cell_type": "code",
   "execution_count": 12,
   "id": "147a3f5b",
   "metadata": {},
   "outputs": [
    {
     "data": {
      "text/plain": [
       "array([5., 5., 5., 5., 5., 5., 5., 5., 5., 5.])"
      ]
     },
     "execution_count": 12,
     "metadata": {},
     "output_type": "execute_result"
    }
   ],
   "source": [
    "a5 = np.ones(10)*5\n",
    "a5"
   ]
  },
  {
   "cell_type": "markdown",
   "id": "5955d570",
   "metadata": {},
   "source": [
    "## Creating an array of the integers from 10 to 50"
   ]
  },
  {
   "cell_type": "code",
   "execution_count": 14,
   "id": "6b6aa1d3",
   "metadata": {},
   "outputs": [
    {
     "data": {
      "text/plain": [
       "array([10, 11, 12, 13, 14, 15, 16, 17, 18, 19, 20, 21, 22, 23, 24, 25, 26,\n",
       "       27, 28, 29, 30, 31, 32, 33, 34, 35, 36, 37, 38, 39, 40, 41, 42, 43,\n",
       "       44, 45, 46, 47, 48, 49, 50])"
      ]
     },
     "execution_count": 14,
     "metadata": {},
     "output_type": "execute_result"
    }
   ],
   "source": [
    "ar = np.arange(10,51)\n",
    "ar"
   ]
  },
  {
   "cell_type": "markdown",
   "id": "91c5abe3",
   "metadata": {},
   "source": [
    "## Creating a 3x3 matrix with values ranging from 0 to 8"
   ]
  },
  {
   "cell_type": "code",
   "execution_count": 16,
   "id": "85ee44f0",
   "metadata": {},
   "outputs": [
    {
     "data": {
      "text/plain": [
       "array([[0, 1, 2],\n",
       "       [3, 4, 5],\n",
       "       [6, 7, 8]])"
      ]
     },
     "execution_count": 16,
     "metadata": {},
     "output_type": "execute_result"
    }
   ],
   "source": [
    "am = np.arange(0,9).reshape(3,3)\n",
    "am"
   ]
  },
  {
   "cell_type": "markdown",
   "id": "61256652",
   "metadata": {},
   "source": [
    "## Creating a 3x3 Identity matrix"
   ]
  },
  {
   "cell_type": "code",
   "execution_count": 17,
   "id": "5d78ed8d",
   "metadata": {},
   "outputs": [
    {
     "data": {
      "text/plain": [
       "array([[1., 0., 0.],\n",
       "       [0., 1., 0.],\n",
       "       [0., 0., 1.]])"
      ]
     },
     "execution_count": 17,
     "metadata": {},
     "output_type": "execute_result"
    }
   ],
   "source": [
    "ai = np.eye(3)\n",
    "ai"
   ]
  },
  {
   "cell_type": "markdown",
   "id": "e74b01c2",
   "metadata": {},
   "source": [
    "## Using Numpy to generate random between 0 and 1"
   ]
  },
  {
   "cell_type": "code",
   "execution_count": 20,
   "id": "d047203a",
   "metadata": {},
   "outputs": [
    {
     "data": {
      "text/plain": [
       "array([0.37980313])"
      ]
     },
     "execution_count": 20,
     "metadata": {},
     "output_type": "execute_result"
    }
   ],
   "source": [
    "rand = np.random.normal(0,1,1)\n",
    "rand"
   ]
  },
  {
   "cell_type": "markdown",
   "id": "4a6f4d8c",
   "metadata": {},
   "source": [
    "## Using Numpy to generate an array of 25 random numbers from aa standard normal distribution"
   ]
  },
  {
   "cell_type": "code",
   "execution_count": 21,
   "id": "e26e815a",
   "metadata": {},
   "outputs": [
    {
     "data": {
      "text/plain": [
       "array([ 0.01660935, -0.63544901,  1.18668379, -0.44277904,  0.46910579,\n",
       "       -0.81065743, -0.42042314,  0.9127911 ,  2.97258721, -2.465852  ,\n",
       "        0.32144418, -0.36502808, -0.82799483,  1.4075261 , -0.35972994,\n",
       "       -0.25090695, -0.42940719,  3.62526118,  1.367598  ,  0.59331745,\n",
       "       -0.02302892,  0.86666882,  0.92796749,  1.03107116,  0.61341089])"
      ]
     },
     "execution_count": 21,
     "metadata": {},
     "output_type": "execute_result"
    }
   ],
   "source": [
    "rand_25 = np.random.normal(0,1,25)\n",
    "rand_25"
   ]
  },
  {
   "cell_type": "markdown",
   "id": "0fb5520e",
   "metadata": {},
   "source": [
    "## Creating matrix with the following array"
   ]
  },
  {
   "cell_type": "code",
   "execution_count": 30,
   "id": "4a1c7fe0",
   "metadata": {},
   "outputs": [
    {
     "data": {
      "text/plain": [
       "array([[0.01, 0.02, 0.03, 0.04, 0.05, 0.06, 0.07, 0.08, 0.09, 0.1 ],\n",
       "       [0.11, 0.12, 0.13, 0.14, 0.15, 0.16, 0.17, 0.18, 0.19, 0.2 ],\n",
       "       [0.21, 0.22, 0.23, 0.24, 0.25, 0.26, 0.27, 0.28, 0.29, 0.3 ],\n",
       "       [0.31, 0.32, 0.33, 0.34, 0.35, 0.36, 0.37, 0.38, 0.39, 0.4 ],\n",
       "       [0.41, 0.42, 0.43, 0.44, 0.45, 0.46, 0.47, 0.48, 0.49, 0.5 ],\n",
       "       [0.51, 0.52, 0.53, 0.54, 0.55, 0.56, 0.57, 0.58, 0.59, 0.6 ],\n",
       "       [0.61, 0.62, 0.63, 0.64, 0.65, 0.66, 0.67, 0.68, 0.69, 0.7 ],\n",
       "       [0.71, 0.72, 0.73, 0.74, 0.75, 0.76, 0.77, 0.78, 0.79, 0.8 ],\n",
       "       [0.81, 0.82, 0.83, 0.84, 0.85, 0.86, 0.87, 0.88, 0.89, 0.9 ],\n",
       "       [0.91, 0.92, 0.93, 0.94, 0.95, 0.96, 0.97, 0.98, 0.99, 1.  ]])"
      ]
     },
     "execution_count": 30,
     "metadata": {},
     "output_type": "execute_result"
    }
   ],
   "source": [
    "atx = np.arange(0.01,1.01,0.01).reshape(10,10)\n",
    "atx"
   ]
  },
  {
   "cell_type": "markdown",
   "id": "dfc943f9",
   "metadata": {},
   "source": [
    "## Creating an array of 20 linearlyspaced points between 0 and 1"
   ]
  },
  {
   "cell_type": "code",
   "execution_count": 24,
   "id": "dc2c4652",
   "metadata": {},
   "outputs": [
    {
     "data": {
      "text/plain": [
       "array([0.        , 0.05263158, 0.10526316, 0.15789474, 0.21052632,\n",
       "       0.26315789, 0.31578947, 0.36842105, 0.42105263, 0.47368421,\n",
       "       0.52631579, 0.57894737, 0.63157895, 0.68421053, 0.73684211,\n",
       "       0.78947368, 0.84210526, 0.89473684, 0.94736842, 1.        ])"
      ]
     },
     "execution_count": 24,
     "metadata": {},
     "output_type": "execute_result"
    }
   ],
   "source": [
    "al = np.linspace(0,1,20)\n",
    "al"
   ]
  },
  {
   "cell_type": "markdown",
   "id": "10842ccd",
   "metadata": {},
   "source": [
    "## Writing code that produces the output"
   ]
  },
  {
   "cell_type": "code",
   "execution_count": 38,
   "id": "6ffc8df5",
   "metadata": {},
   "outputs": [
    {
     "data": {
      "text/plain": [
       "array([[ 1,  2,  3,  4,  5],\n",
       "       [ 6,  7,  8,  9, 10],\n",
       "       [11, 12, 13, 14, 15],\n",
       "       [16, 17, 18, 19, 20],\n",
       "       [21, 22, 23, 24, 25]])"
      ]
     },
     "execution_count": 38,
     "metadata": {},
     "output_type": "execute_result"
    }
   ],
   "source": [
    "mat = np.arange(1,26).reshape(5,5)\n",
    "mat\n",
    "matt = mat[:3,:4]"
   ]
  },
  {
   "cell_type": "code",
   "execution_count": 43,
   "id": "bc64a2e7",
   "metadata": {},
   "outputs": [
    {
     "data": {
      "text/plain": [
       "array([[12, 13, 14, 15],\n",
       "       [17, 18, 19, 20],\n",
       "       [22, 23, 24, 25]])"
      ]
     },
     "execution_count": 43,
     "metadata": {},
     "output_type": "execute_result"
    }
   ],
   "source": [
    "mat = np.arange(1,26).reshape(5,5)\n",
    "mat\n",
    "matt = mat[2:5, 1:5]\n",
    "matt"
   ]
  },
  {
   "cell_type": "markdown",
   "id": "6b6dee04",
   "metadata": {},
   "source": [
    "## Code that reproduces the output below"
   ]
  },
  {
   "cell_type": "code",
   "execution_count": 47,
   "id": "dce48ec3",
   "metadata": {},
   "outputs": [
    {
     "data": {
      "text/plain": [
       "20"
      ]
     },
     "execution_count": 47,
     "metadata": {},
     "output_type": "execute_result"
    }
   ],
   "source": [
    "aw = mat[3][-1]\n",
    "aw"
   ]
  },
  {
   "cell_type": "markdown",
   "id": "4e6b7df2",
   "metadata": {},
   "source": [
    "## Code that produces the output below"
   ]
  },
  {
   "cell_type": "code",
   "execution_count": 68,
   "id": "798e52e2",
   "metadata": {},
   "outputs": [
    {
     "data": {
      "text/plain": [
       "array([[ 2],\n",
       "       [ 7],\n",
       "       [12]])"
      ]
     },
     "execution_count": 68,
     "metadata": {},
     "output_type": "execute_result"
    }
   ],
   "source": [
    "aww = mat[:3,1:2]\n",
    "aww"
   ]
  },
  {
   "cell_type": "markdown",
   "id": "3d6ac6bc",
   "metadata": {},
   "source": [
    "## Code that produces the output below"
   ]
  },
  {
   "cell_type": "code",
   "execution_count": 70,
   "id": "69d4361b",
   "metadata": {},
   "outputs": [
    {
     "data": {
      "text/plain": [
       "array([21, 22, 23, 24, 25])"
      ]
     },
     "execution_count": 70,
     "metadata": {},
     "output_type": "execute_result"
    }
   ],
   "source": [
    "ak = mat[-1]\n",
    "ak"
   ]
  },
  {
   "cell_type": "markdown",
   "id": "82a7c748",
   "metadata": {},
   "source": [
    "## Code that produces the output below"
   ]
  },
  {
   "cell_type": "code",
   "execution_count": 72,
   "id": "a169ba4a",
   "metadata": {},
   "outputs": [
    {
     "data": {
      "text/plain": [
       "array([[16, 17, 18, 19, 20],\n",
       "       [21, 22, 23, 24, 25]])"
      ]
     },
     "execution_count": 72,
     "metadata": {},
     "output_type": "execute_result"
    }
   ],
   "source": [
    "an = mat[-2:]\n",
    "an"
   ]
  },
  {
   "cell_type": "markdown",
   "id": "9aa83b75",
   "metadata": {},
   "source": [
    "## Sum of all Numbers in Mat"
   ]
  },
  {
   "cell_type": "code",
   "execution_count": null,
   "id": "b5445c51",
   "metadata": {},
   "outputs": [],
   "source": []
  },
  {
   "cell_type": "markdown",
   "id": "b968ae77",
   "metadata": {},
   "source": [
    "## The standard deviation of the values in mat"
   ]
  },
  {
   "cell_type": "code",
   "execution_count": null,
   "id": "ee611089",
   "metadata": {},
   "outputs": [],
   "source": []
  },
  {
   "cell_type": "markdown",
   "id": "2b7106ec",
   "metadata": {},
   "source": [
    "## To get the sum of all columns in mat"
   ]
  },
  {
   "cell_type": "code",
   "execution_count": 76,
   "id": "34ed1158",
   "metadata": {},
   "outputs": [
    {
     "data": {
      "text/plain": [
       "array([55, 60, 65, 70, 75])"
      ]
     },
     "execution_count": 76,
     "metadata": {},
     "output_type": "execute_result"
    }
   ],
   "source": [
    "aw = mat.sum(axis=0)\n",
    "aw"
   ]
  }
 ],
 "metadata": {
  "kernelspec": {
   "display_name": "Python 3 (ipykernel)",
   "language": "python",
   "name": "python3"
  },
  "language_info": {
   "codemirror_mode": {
    "name": "ipython",
    "version": 3
   },
   "file_extension": ".py",
   "mimetype": "text/x-python",
   "name": "python",
   "nbconvert_exporter": "python",
   "pygments_lexer": "ipython3",
   "version": "3.9.12"
  }
 },
 "nbformat": 4,
 "nbformat_minor": 5
}
